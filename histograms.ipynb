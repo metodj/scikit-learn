{
 "cells": [
  {
   "cell_type": "code",
   "execution_count": 1,
   "metadata": {},
   "outputs": [],
   "source": [
    "from sklearn.datasets import load_iris\n",
    "from sklearn.ensemble._hist_gradient_boosting.gradient_boosting import HistGradientBoostingRegressor\n",
    "from sklearn.ensemble._hist_gradient_boosting.binning import _BinMapper\n",
    "\n",
    "import matplotlib.pyplot as plt\n",
    "import numpy as np\n",
    "import pandas as pd"
   ]
  },
  {
   "cell_type": "code",
   "execution_count": 2,
   "metadata": {},
   "outputs": [],
   "source": [
    "X_iris, y_iris = load_iris(return_X_y=True)"
   ]
  },
  {
   "cell_type": "code",
   "execution_count": 15,
   "metadata": {},
   "outputs": [
    {
     "ename": "ValueError",
     "evalue": "operands could not be broadcast together with shapes (150,) (2,) ",
     "output_type": "error",
     "traceback": [
      "\u001b[0;31m---------------------------------------------------------------------------\u001b[0m",
      "\u001b[0;31mValueError\u001b[0m                                Traceback (most recent call last)",
      "\u001b[0;32m<ipython-input-15-d52628845f36>\u001b[0m in \u001b[0;36m<module>\u001b[0;34m\u001b[0m\n\u001b[0;32m----> 1\u001b[0;31m \u001b[0mcol_data\u001b[0m \u001b[0;34m=\u001b[0m \u001b[0mX_iris\u001b[0m\u001b[0;34m[\u001b[0m\u001b[0;34m:\u001b[0m\u001b[0;34m,\u001b[0m\u001b[0;36m1\u001b[0m\u001b[0;34m]\u001b[0m \u001b[0;34m+\u001b[0m \u001b[0mnp\u001b[0m\u001b[0;34m.\u001b[0m\u001b[0marray\u001b[0m\u001b[0;34m(\u001b[0m\u001b[0;34m[\u001b[0m\u001b[0;32mNone\u001b[0m\u001b[0;34m,\u001b[0m \u001b[0;32mNone\u001b[0m\u001b[0;34m]\u001b[0m\u001b[0;34m)\u001b[0m\u001b[0;34m\u001b[0m\u001b[0;34m\u001b[0m\u001b[0m\n\u001b[0m",
      "\u001b[0;31mValueError\u001b[0m: operands could not be broadcast together with shapes (150,) (2,) "
     ]
    }
   ],
   "source": [
    "col_data = X_iris[:,1] "
   ]
  },
  {
   "cell_type": "code",
   "execution_count": 12,
   "metadata": {},
   "outputs": [],
   "source": [
    "unique, counts = np.unique(col_data, return_counts=True)"
   ]
  },
  {
   "cell_type": "code",
   "execution_count": 13,
   "metadata": {},
   "outputs": [
    {
     "data": {
      "text/plain": [
       "array([2. , 2.2, 2.3, 2.4, 2.5, 2.6, 2.7, 2.8, 2.9, 3. , 3.1, 3.2, 3.3,\n",
       "       3.4, 3.5, 3.6, 3.7, 3.8, 3.9, 4. , 4.1, 4.2, 4.4])"
      ]
     },
     "execution_count": 13,
     "metadata": {},
     "output_type": "execute_result"
    }
   ],
   "source": [
    "unique"
   ]
  },
  {
   "cell_type": "code",
   "execution_count": 14,
   "metadata": {},
   "outputs": [
    {
     "data": {
      "text/plain": [
       "array([ 1,  3,  4,  3,  8,  5,  9, 14, 10, 26, 11, 13,  6, 12,  6,  4,  3,\n",
       "        6,  2,  1,  1,  1,  1])"
      ]
     },
     "execution_count": 14,
     "metadata": {},
     "output_type": "execute_result"
    }
   ],
   "source": [
    "counts"
   ]
  },
  {
   "cell_type": "code",
   "execution_count": 5,
   "metadata": {},
   "outputs": [],
   "source": [
    "X_df = pd.DataFrame(X_iris)"
   ]
  },
  {
   "cell_type": "code",
   "execution_count": 63,
   "metadata": {},
   "outputs": [],
   "source": [
    "max_bins = 10\n",
    "percentiles = np.linspace(0, 100, num=max_bins + 1)\n",
    "percentiles = percentiles[1:-1]\n",
    "quantil = np.percentile(X_iris[:,0], q=percentiles, interpolation='midpoint')"
   ]
  },
  {
   "cell_type": "code",
   "execution_count": 68,
   "metadata": {},
   "outputs": [
    {
     "data": {
      "text/plain": [
       "array([4.8 , 5.  , 5.25, 5.6 , 5.8 , 6.1 , 6.3 , 6.55, 6.9 ])"
      ]
     },
     "execution_count": 68,
     "metadata": {},
     "output_type": "execute_result"
    }
   ],
   "source": [
    "quantil"
   ]
  },
  {
   "cell_type": "code",
   "execution_count": 69,
   "metadata": {},
   "outputs": [
    {
     "data": {
      "text/html": [
       "<div>\n",
       "<style scoped>\n",
       "    .dataframe tbody tr th:only-of-type {\n",
       "        vertical-align: middle;\n",
       "    }\n",
       "\n",
       "    .dataframe tbody tr th {\n",
       "        vertical-align: top;\n",
       "    }\n",
       "\n",
       "    .dataframe thead th {\n",
       "        text-align: right;\n",
       "    }\n",
       "</style>\n",
       "<table border=\"1\" class=\"dataframe\">\n",
       "  <thead>\n",
       "    <tr style=\"text-align: right;\">\n",
       "      <th></th>\n",
       "      <th>0</th>\n",
       "      <th>1</th>\n",
       "      <th>2</th>\n",
       "      <th>3</th>\n",
       "    </tr>\n",
       "  </thead>\n",
       "  <tbody>\n",
       "    <tr>\n",
       "      <td>count</td>\n",
       "      <td>150.000000</td>\n",
       "      <td>150.000000</td>\n",
       "      <td>150.000000</td>\n",
       "      <td>150.000000</td>\n",
       "    </tr>\n",
       "    <tr>\n",
       "      <td>mean</td>\n",
       "      <td>5.843333</td>\n",
       "      <td>3.057333</td>\n",
       "      <td>3.758000</td>\n",
       "      <td>1.199333</td>\n",
       "    </tr>\n",
       "    <tr>\n",
       "      <td>std</td>\n",
       "      <td>0.828066</td>\n",
       "      <td>0.435866</td>\n",
       "      <td>1.765298</td>\n",
       "      <td>0.762238</td>\n",
       "    </tr>\n",
       "    <tr>\n",
       "      <td>min</td>\n",
       "      <td>4.300000</td>\n",
       "      <td>2.000000</td>\n",
       "      <td>1.000000</td>\n",
       "      <td>0.100000</td>\n",
       "    </tr>\n",
       "    <tr>\n",
       "      <td>25%</td>\n",
       "      <td>5.100000</td>\n",
       "      <td>2.800000</td>\n",
       "      <td>1.600000</td>\n",
       "      <td>0.300000</td>\n",
       "    </tr>\n",
       "    <tr>\n",
       "      <td>50%</td>\n",
       "      <td>5.800000</td>\n",
       "      <td>3.000000</td>\n",
       "      <td>4.350000</td>\n",
       "      <td>1.300000</td>\n",
       "    </tr>\n",
       "    <tr>\n",
       "      <td>75%</td>\n",
       "      <td>6.400000</td>\n",
       "      <td>3.300000</td>\n",
       "      <td>5.100000</td>\n",
       "      <td>1.800000</td>\n",
       "    </tr>\n",
       "    <tr>\n",
       "      <td>max</td>\n",
       "      <td>7.900000</td>\n",
       "      <td>4.400000</td>\n",
       "      <td>6.900000</td>\n",
       "      <td>2.500000</td>\n",
       "    </tr>\n",
       "  </tbody>\n",
       "</table>\n",
       "</div>"
      ],
      "text/plain": [
       "                0           1           2           3\n",
       "count  150.000000  150.000000  150.000000  150.000000\n",
       "mean     5.843333    3.057333    3.758000    1.199333\n",
       "std      0.828066    0.435866    1.765298    0.762238\n",
       "min      4.300000    2.000000    1.000000    0.100000\n",
       "25%      5.100000    2.800000    1.600000    0.300000\n",
       "50%      5.800000    3.000000    4.350000    1.300000\n",
       "75%      6.400000    3.300000    5.100000    1.800000\n",
       "max      7.900000    4.400000    6.900000    2.500000"
      ]
     },
     "execution_count": 69,
     "metadata": {},
     "output_type": "execute_result"
    }
   ],
   "source": [
    "X_df.describe()"
   ]
  },
  {
   "cell_type": "code",
   "execution_count": 72,
   "metadata": {},
   "outputs": [
    {
     "data": {
      "text/plain": [
       "[(0, 4.3),\n",
       " (1, 4.4),\n",
       " (2, 4.4),\n",
       " (3, 4.4),\n",
       " (4, 4.5),\n",
       " (5, 4.6),\n",
       " (6, 4.6),\n",
       " (7, 4.6),\n",
       " (8, 4.6),\n",
       " (9, 4.7),\n",
       " (10, 4.7),\n",
       " (11, 4.8),\n",
       " (12, 4.8),\n",
       " (13, 4.8),\n",
       " (14, 4.8),\n",
       " (15, 4.8),\n",
       " (16, 4.9),\n",
       " (17, 4.9),\n",
       " (18, 4.9),\n",
       " (19, 4.9),\n",
       " (20, 4.9),\n",
       " (21, 4.9),\n",
       " (22, 5.0),\n",
       " (23, 5.0),\n",
       " (24, 5.0),\n",
       " (25, 5.0),\n",
       " (26, 5.0),\n",
       " (27, 5.0),\n",
       " (28, 5.0),\n",
       " (29, 5.0),\n",
       " (30, 5.0),\n",
       " (31, 5.0),\n",
       " (32, 5.1),\n",
       " (33, 5.1),\n",
       " (34, 5.1),\n",
       " (35, 5.1),\n",
       " (36, 5.1),\n",
       " (37, 5.1),\n",
       " (38, 5.1),\n",
       " (39, 5.1),\n",
       " (40, 5.1),\n",
       " (41, 5.2),\n",
       " (42, 5.2),\n",
       " (43, 5.2),\n",
       " (44, 5.2),\n",
       " (45, 5.3),\n",
       " (46, 5.4),\n",
       " (47, 5.4),\n",
       " (48, 5.4),\n",
       " (49, 5.4),\n",
       " (50, 5.4),\n",
       " (51, 5.4),\n",
       " (52, 5.5),\n",
       " (53, 5.5),\n",
       " (54, 5.5),\n",
       " (55, 5.5),\n",
       " (56, 5.5),\n",
       " (57, 5.5),\n",
       " (58, 5.5),\n",
       " (59, 5.6),\n",
       " (60, 5.6),\n",
       " (61, 5.6),\n",
       " (62, 5.6),\n",
       " (63, 5.6),\n",
       " (64, 5.6),\n",
       " (65, 5.7),\n",
       " (66, 5.7),\n",
       " (67, 5.7),\n",
       " (68, 5.7),\n",
       " (69, 5.7),\n",
       " (70, 5.7),\n",
       " (71, 5.7),\n",
       " (72, 5.7),\n",
       " (73, 5.8),\n",
       " (74, 5.8),\n",
       " (75, 5.8),\n",
       " (76, 5.8),\n",
       " (77, 5.8),\n",
       " (78, 5.8),\n",
       " (79, 5.8),\n",
       " (80, 5.9),\n",
       " (81, 5.9),\n",
       " (82, 5.9),\n",
       " (83, 6.0),\n",
       " (84, 6.0),\n",
       " (85, 6.0),\n",
       " (86, 6.0),\n",
       " (87, 6.0),\n",
       " (88, 6.0),\n",
       " (89, 6.1),\n",
       " (90, 6.1),\n",
       " (91, 6.1),\n",
       " (92, 6.1),\n",
       " (93, 6.1),\n",
       " (94, 6.1),\n",
       " (95, 6.2),\n",
       " (96, 6.2),\n",
       " (97, 6.2),\n",
       " (98, 6.2),\n",
       " (99, 6.3),\n",
       " (100, 6.3),\n",
       " (101, 6.3),\n",
       " (102, 6.3),\n",
       " (103, 6.3),\n",
       " (104, 6.3),\n",
       " (105, 6.3),\n",
       " (106, 6.3),\n",
       " (107, 6.3),\n",
       " (108, 6.4),\n",
       " (109, 6.4),\n",
       " (110, 6.4),\n",
       " (111, 6.4),\n",
       " (112, 6.4),\n",
       " (113, 6.4),\n",
       " (114, 6.4),\n",
       " (115, 6.5),\n",
       " (116, 6.5),\n",
       " (117, 6.5),\n",
       " (118, 6.5),\n",
       " (119, 6.5),\n",
       " (120, 6.6),\n",
       " (121, 6.6),\n",
       " (122, 6.7),\n",
       " (123, 6.7),\n",
       " (124, 6.7),\n",
       " (125, 6.7),\n",
       " (126, 6.7),\n",
       " (127, 6.7),\n",
       " (128, 6.7),\n",
       " (129, 6.7),\n",
       " (130, 6.8),\n",
       " (131, 6.8),\n",
       " (132, 6.8),\n",
       " (133, 6.9),\n",
       " (134, 6.9),\n",
       " (135, 6.9),\n",
       " (136, 6.9),\n",
       " (137, 7.0),\n",
       " (138, 7.1),\n",
       " (139, 7.2),\n",
       " (140, 7.2),\n",
       " (141, 7.2),\n",
       " (142, 7.3),\n",
       " (143, 7.4),\n",
       " (144, 7.6),\n",
       " (145, 7.7),\n",
       " (146, 7.7),\n",
       " (147, 7.7),\n",
       " (148, 7.7),\n",
       " (149, 7.9)]"
      ]
     },
     "execution_count": 72,
     "metadata": {},
     "output_type": "execute_result"
    }
   ],
   "source": [
    "list(enumerate(sorted(list(X_iris[:,0]))))"
   ]
  },
  {
   "cell_type": "code",
   "execution_count": 66,
   "metadata": {},
   "outputs": [
    {
     "data": {
      "text/plain": [
       "array([0, 0, 0, 0, 0, 0, 0, 0, 0, 0, 0, 0, 0, 0, 0, 0, 0, 0, 0, 0, 0, 0,\n",
       "       0, 0, 0, 0, 0, 0, 0, 0, 0, 0, 0, 0, 0, 0, 0, 0, 0, 0, 0, 0, 0, 0,\n",
       "       0, 0, 0, 0, 0, 0, 1, 1, 1, 1, 1, 1, 1, 1, 1, 1, 1, 1, 1, 1, 1, 1,\n",
       "       1, 1, 1, 1, 1, 1, 1, 1, 1, 1, 1, 1, 1, 1, 1, 1, 1, 1, 1, 1, 1, 1,\n",
       "       1, 1, 1, 1, 1, 1, 1, 1, 1, 1, 1, 1, 2, 2, 2, 2, 2, 2, 2, 2, 2, 2,\n",
       "       2, 2, 2, 2, 2, 2, 2, 2, 2, 2, 2, 2, 2, 2, 2, 2, 2, 2, 2, 2, 2, 2,\n",
       "       2, 2, 2, 2, 2, 2, 2, 2, 2, 2, 2, 2, 2, 2, 2, 2, 2, 2])"
      ]
     },
     "execution_count": 66,
     "metadata": {},
     "output_type": "execute_result"
    }
   ],
   "source": [
    "y_iris"
   ]
  },
  {
   "cell_type": "code",
   "execution_count": 75,
   "metadata": {},
   "outputs": [
    {
     "data": {
      "image/png": "[encoded data removed]",
      "text/plain": [
       "<Figure size 432x288 with 1 Axes>"
      ]
     },
     "metadata": {
      "needs_background": "light"
     },
     "output_type": "display_data"
    }
   ],
   "source": [
    "X_df[0].hist(bins=10)\n",
    "for xc in quantil:\n",
    "    plt.axvline(x=xc, color='red')\n",
    "plt.show()"
   ]
  },
  {
   "cell_type": "code",
   "execution_count": 74,
   "metadata": {},
   "outputs": [
    {
     "data": {
      "text/plain": [
       "array([4.8 , 5.  , 5.25, 5.6 , 5.8 , 6.1 , 6.3 , 6.55, 6.9 ])"
      ]
     },
     "execution_count": 74,
     "metadata": {},
     "output_type": "execute_result"
    }
   ],
   "source": [
    "quantil"
   ]
  },
  {
   "cell_type": "code",
   "execution_count": 73,
   "metadata": {},
   "outputs": [
    {
     "data": {
      "text/plain": [
       "3    24\n",
       "1    23\n",
       "5    22\n",
       "0    22\n",
       "6    20\n",
       "2    20\n",
       "4    19\n",
       "Name: 0, dtype: int64"
      ]
     },
     "execution_count": 73,
     "metadata": {},
     "output_type": "execute_result"
    }
   ],
   "source": [
    "binned_data_df[0].value_counts()"
   ]
  },
  {
   "cell_type": "code",
   "execution_count": 18,
   "metadata": {},
   "outputs": [],
   "source": [
    "def _find_binning_thresholds(data, max_bins, subsample, random_state):\n",
    "    \"\"\"Extract feature-wise quantiles from numerical data.\n",
    "\n",
    "    Missing values are ignored for finding the thresholds.\n",
    "\n",
    "    Parameters\n",
    "    ----------\n",
    "    data : array-like, shape (n_samples, n_features)\n",
    "        The data to bin.\n",
    "    max_bins: int\n",
    "        The maximum number of bins to use for non-missing values. If for a\n",
    "        given feature the number of unique values is less than ``max_bins``,\n",
    "        then those unique values will be used to compute the bin thresholds,\n",
    "        instead of the quantiles.\n",
    "    subsample : int or None\n",
    "        If ``n_samples > subsample``, then ``sub_samples`` samples will be\n",
    "        randomly choosen to compute the quantiles. If ``None``, the whole data\n",
    "        is used.\n",
    "    random_state: int or numpy.random.RandomState or None\n",
    "        Pseudo-random number generator to control the random sub-sampling.\n",
    "        See :term:`random_state`.\n",
    "\n",
    "    Return\n",
    "    ------\n",
    "    binning_thresholds: list of arrays\n",
    "        For each feature, stores the increasing numeric values that can\n",
    "        be used to separate the bins. Thus ``len(binning_thresholds) ==\n",
    "        n_features``.\n",
    "    \"\"\"\n",
    "\n",
    "    binning_thresholds = []\n",
    "    for f_idx in range(data.shape[1]):\n",
    "        col_data = data[:, f_idx]\n",
    "        # ignore missing values when computing bin thresholds\n",
    "        missing_mask = np.isnan(col_data)\n",
    "        if missing_mask.any():\n",
    "            col_data = col_data[~missing_mask]\n",
    "        col_data = np.ascontiguousarray(col_data, dtype=np.float64)\n",
    "        distinct_values = np.unique(col_data)\n",
    "        if len(distinct_values) <= max_bins:\n",
    "            midpoints = distinct_values[:-1] + distinct_values[1:]\n",
    "            midpoints *= .5\n",
    "        else:\n",
    "            # We sort again the data in this case. We could compute\n",
    "            # approximate midpoint percentiles using the output of\n",
    "            # np.unique(col_data, return_counts) instead but this is more\n",
    "            # work and the performance benefit will be limited because we\n",
    "            # work on a fixed-size subsample of the full data.\n",
    "            percentiles = np.linspace(0, 100, num=max_bins + 1)\n",
    "            percentiles = percentiles[1:-1]\n",
    "            print(percentiles)\n",
    "            midpoints = np.percentile(col_data, percentiles,\n",
    "                                      interpolation='midpoint').astype(np.float64)\n",
    "            assert midpoints.shape[0] == max_bins - 1\n",
    "\n",
    "        # We avoid having +inf thresholds: +inf thresholds are only allowed in\n",
    "        # a \"split on nan\" situation.\n",
    "        np.clip(midpoints, a_min=None, a_max=1e300, out=midpoints)\n",
    "\n",
    "        binning_thresholds.append(midpoints)\n",
    "\n",
    "    return binning_thresholds"
   ]
  },
  {
   "cell_type": "code",
   "execution_count": 19,
   "metadata": {},
   "outputs": [
    {
     "name": "stdout",
     "output_type": "stream",
     "text": [
      "[33.33333333 66.66666667]\n",
      "[33.33333333 66.66666667]\n",
      "[33.33333333 66.66666667]\n",
      "[33.33333333 66.66666667]\n"
     ]
    },
    {
     "data": {
      "text/plain": [
       "[array([5.4, 6.3]), array([2.9, 3.2]), array([2.45, 4.9 ]), array([0.8, 1.6])]"
      ]
     },
     "execution_count": 19,
     "metadata": {},
     "output_type": "execute_result"
    }
   ],
   "source": [
    "_find_binning_thresholds(X_iris, 3, None, None)"
   ]
  },
  {
   "cell_type": "code",
   "execution_count": null,
   "metadata": {},
   "outputs": [],
   "source": []
  },
  {
   "cell_type": "code",
   "execution_count": 44,
   "metadata": {},
   "outputs": [],
   "source": [
    "test_model = HistGradientBoostingRegressor(verbose=False, max_bins=7)"
   ]
  },
  {
   "cell_type": "code",
   "execution_count": 48,
   "metadata": {},
   "outputs": [],
   "source": [
    "n_bins = test_model.max_bins + 1  # + 1 for missing values\n",
    "test_model.bin_mapper_ = _BinMapper(n_bins=n_bins,\n",
    "                                      random_state=None)\n",
    "binned_data = test_model._bin_data(X_iris, True)"
   ]
  },
  {
   "cell_type": "code",
   "execution_count": 50,
   "metadata": {},
   "outputs": [],
   "source": [
    "binned_data_df = pd.DataFrame(binned_data)"
   ]
  },
  {
   "cell_type": "code",
   "execution_count": 58,
   "metadata": {},
   "outputs": [
    {
     "data": {
      "text/html": [
       "<div>\n",
       "<style scoped>\n",
       "    .dataframe tbody tr th:only-of-type {\n",
       "        vertical-align: middle;\n",
       "    }\n",
       "\n",
       "    .dataframe tbody tr th {\n",
       "        vertical-align: top;\n",
       "    }\n",
       "\n",
       "    .dataframe thead th {\n",
       "        text-align: right;\n",
       "    }\n",
       "</style>\n",
       "<table border=\"1\" class=\"dataframe\">\n",
       "  <thead>\n",
       "    <tr style=\"text-align: right;\">\n",
       "      <th></th>\n",
       "      <th>0</th>\n",
       "      <th>1</th>\n",
       "      <th>2</th>\n",
       "      <th>3</th>\n",
       "    </tr>\n",
       "  </thead>\n",
       "  <tbody>\n",
       "    <tr>\n",
       "      <td>0</td>\n",
       "      <td>1</td>\n",
       "      <td>5</td>\n",
       "      <td>0</td>\n",
       "      <td>0</td>\n",
       "    </tr>\n",
       "    <tr>\n",
       "      <td>1</td>\n",
       "      <td>0</td>\n",
       "      <td>2</td>\n",
       "      <td>0</td>\n",
       "      <td>0</td>\n",
       "    </tr>\n",
       "    <tr>\n",
       "      <td>2</td>\n",
       "      <td>0</td>\n",
       "      <td>4</td>\n",
       "      <td>0</td>\n",
       "      <td>0</td>\n",
       "    </tr>\n",
       "    <tr>\n",
       "      <td>3</td>\n",
       "      <td>0</td>\n",
       "      <td>3</td>\n",
       "      <td>1</td>\n",
       "      <td>0</td>\n",
       "    </tr>\n",
       "    <tr>\n",
       "      <td>4</td>\n",
       "      <td>1</td>\n",
       "      <td>6</td>\n",
       "      <td>0</td>\n",
       "      <td>0</td>\n",
       "    </tr>\n",
       "    <tr>\n",
       "      <td>...</td>\n",
       "      <td>...</td>\n",
       "      <td>...</td>\n",
       "      <td>...</td>\n",
       "      <td>...</td>\n",
       "    </tr>\n",
       "    <tr>\n",
       "      <td>145</td>\n",
       "      <td>5</td>\n",
       "      <td>2</td>\n",
       "      <td>5</td>\n",
       "      <td>6</td>\n",
       "    </tr>\n",
       "    <tr>\n",
       "      <td>146</td>\n",
       "      <td>4</td>\n",
       "      <td>0</td>\n",
       "      <td>4</td>\n",
       "      <td>5</td>\n",
       "    </tr>\n",
       "    <tr>\n",
       "      <td>147</td>\n",
       "      <td>5</td>\n",
       "      <td>2</td>\n",
       "      <td>5</td>\n",
       "      <td>5</td>\n",
       "    </tr>\n",
       "    <tr>\n",
       "      <td>148</td>\n",
       "      <td>4</td>\n",
       "      <td>5</td>\n",
       "      <td>5</td>\n",
       "      <td>6</td>\n",
       "    </tr>\n",
       "    <tr>\n",
       "      <td>149</td>\n",
       "      <td>3</td>\n",
       "      <td>2</td>\n",
       "      <td>5</td>\n",
       "      <td>4</td>\n",
       "    </tr>\n",
       "  </tbody>\n",
       "</table>\n",
       "<p>150 rows × 4 columns</p>\n",
       "</div>"
      ],
      "text/plain": [
       "     0  1  2  3\n",
       "0    1  5  0  0\n",
       "1    0  2  0  0\n",
       "2    0  4  0  0\n",
       "3    0  3  1  0\n",
       "4    1  6  0  0\n",
       "..  .. .. .. ..\n",
       "145  5  2  5  6\n",
       "146  4  0  4  5\n",
       "147  5  2  5  5\n",
       "148  4  5  5  6\n",
       "149  3  2  5  4\n",
       "\n",
       "[150 rows x 4 columns]"
      ]
     },
     "execution_count": 58,
     "metadata": {},
     "output_type": "execute_result"
    }
   ],
   "source": [
    "binned_data_df"
   ]
  },
  {
   "cell_type": "code",
   "execution_count": 51,
   "metadata": {},
   "outputs": [
    {
     "data": {
      "text/plain": [
       "array([[<matplotlib.axes._subplots.AxesSubplot object at 0x7fe8aa216240>,\n",
       "        <matplotlib.axes._subplots.AxesSubplot object at 0x7fe8a49ac438>],\n",
       "       [<matplotlib.axes._subplots.AxesSubplot object at 0x7fe8a49cf9b0>,\n",
       "        <matplotlib.axes._subplots.AxesSubplot object at 0x7fe8a497ef60>]],\n",
       "      dtype=object)"
      ]
     },
     "execution_count": 51,
     "metadata": {},
     "output_type": "execute_result"
    },
    {
     "data": {
      "image/png": "[encoded data removed]",
      "text/plain": [
       "<Figure size 432x288 with 4 Axes>"
      ]
     },
     "metadata": {
      "needs_background": "light"
     },
     "output_type": "display_data"
    }
   ],
   "source": [
    "binned_data_df.hist()"
   ]
  },
  {
   "cell_type": "code",
   "execution_count": 55,
   "metadata": {},
   "outputs": [
    {
     "data": {
      "text/plain": [
       "3    24\n",
       "1    23\n",
       "5    22\n",
       "0    22\n",
       "6    20\n",
       "2    20\n",
       "4    19\n",
       "Name: 0, dtype: int64"
      ]
     },
     "execution_count": 55,
     "metadata": {},
     "output_type": "execute_result"
    }
   ],
   "source": [
    "binned_data_df[0].value_counts()"
   ]
  },
  {
   "cell_type": "code",
   "execution_count": 56,
   "metadata": {},
   "outputs": [
    {
     "data": {
      "text/plain": [
       "2    36\n",
       "5    24\n",
       "0    24\n",
       "1    23\n",
       "6    19\n",
       "4    13\n",
       "3    11\n",
       "Name: 1, dtype: int64"
      ]
     },
     "execution_count": 56,
     "metadata": {},
     "output_type": "execute_result"
    }
   ],
   "source": [
    "binned_data_df[1].value_counts()"
   ]
  },
  {
   "cell_type": "code",
   "execution_count": 57,
   "metadata": {},
   "outputs": [
    {
     "data": {
      "text/plain": [
       "0    24\n",
       "5    23\n",
       "2    22\n",
       "4    21\n",
       "3    21\n",
       "1    20\n",
       "6    19\n",
       "Name: 2, dtype: int64"
      ]
     },
     "execution_count": 57,
     "metadata": {},
     "output_type": "execute_result"
    }
   ],
   "source": [
    "binned_data_df[2].value_counts()"
   ]
  },
  {
   "cell_type": "code",
   "execution_count": null,
   "metadata": {},
   "outputs": [],
   "source": []
  }
 ],
 "metadata": {
  "kernelspec": {
   "display_name": "Python 3",
   "language": "python",
   "name": "python3"
  },
  "language_info": {
   "codemirror_mode": {
    "name": "ipython",
    "version": 3
   },
   "file_extension": ".py",
   "mimetype": "text/x-python",
   "name": "python",
   "nbconvert_exporter": "python",
   "pygments_lexer": "ipython3",
   "version": "3.6.8"
  }
 },
 "nbformat": 4,
 "nbformat_minor": 2
}
